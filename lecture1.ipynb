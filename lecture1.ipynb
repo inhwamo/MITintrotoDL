{
  "nbformat": 4,
  "nbformat_minor": 0,
  "metadata": {
    "colab": {
      "provenance": [],
      "authorship_tag": "ABX9TyOjFrgYmkdgDNnUfH7lAFJW",
      "include_colab_link": true
    },
    "kernelspec": {
      "name": "python3",
      "display_name": "Python 3"
    },
    "language_info": {
      "name": "python"
    }
  },
  "cells": [
    {
      "cell_type": "markdown",
      "metadata": {
        "id": "view-in-github",
        "colab_type": "text"
      },
      "source": [
        "<a href=\"https://colab.research.google.com/github/inhwamo/MITintrotoDL2023/blob/main/lecture1.ipynb\" target=\"_parent\"><img src=\"https://colab.research.google.com/assets/colab-badge.svg\" alt=\"Open In Colab\"/></a>"
      ]
    },
    {
      "cell_type": "code",
      "execution_count": 1,
      "metadata": {
        "id": "4Z-pdG9OTPSH"
      },
      "outputs": [],
      "source": [
        "import tensorflow as tf"
      ]
    },
    {
      "cell_type": "code",
      "source": [
        "# Dense layer from scratch\n",
        "class MyDenseLayer(tf.keras.layers.Layer):\n",
        "    def __init__(self, input_dim, output_dim):\n",
        "        super(MyDenseLayer, self).__init__()\n",
        "\n",
        "        # Initialize weights and biases\n",
        "        self.W = self.add_weight([input_dim, output_dim])\n",
        "        self.b = self.add_weight([1, output_dim])\n",
        "    \n",
        "    def call(self, inputs):\n",
        "        # Forward propagation\n",
        "        z = tf.matmul(inputs, self.W) + self.b\n",
        "\n",
        "        # Activation function\n",
        "        output = tf.math.sigmoid(z)\n",
        "\n",
        "        return output"
      ],
      "metadata": {
        "id": "8QbLYGagTdr4"
      },
      "execution_count": 2,
      "outputs": []
    }
  ]
}
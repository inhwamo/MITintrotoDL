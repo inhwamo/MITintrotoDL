{
  "nbformat": 4,
  "nbformat_minor": 0,
  "metadata": {
    "colab": {
      "provenance": [],
      "authorship_tag": "ABX9TyOxXTLQMN1ARKZGbw/7jEiN",
      "include_colab_link": true
    },
    "kernelspec": {
      "name": "python3",
      "display_name": "Python 3"
    },
    "language_info": {
      "name": "python"
    }
  },
  "cells": [
    {
      "cell_type": "markdown",
      "metadata": {
        "id": "view-in-github",
        "colab_type": "text"
      },
      "source": [
        "<a href=\"https://colab.research.google.com/github/inhwamo/MITintrotoDL2023/blob/main/lecture1.ipynb\" target=\"_parent\"><img src=\"https://colab.research.google.com/assets/colab-badge.svg\" alt=\"Open In Colab\"/></a>"
      ]
    },
    {
      "cell_type": "code",
      "execution_count": null,
      "metadata": {
        "id": "4Z-pdG9OTPSH"
      },
      "outputs": [],
      "source": [
        "import tensorflow as tf"
      ]
    },
    {
      "cell_type": "code",
      "source": [
        "# Dense layer from scratch\n",
        "class MyDenseLayer(tf.keras.layers.Layer):\n",
        "    def __init__(self, input_dim, output_dim):\n",
        "        super(MyDenseLayer, self).__init__()\n",
        "\n",
        "        # Initialize weights and biases\n",
        "        self.W = self.add_weight([input_dim, output_dim])\n",
        "        self.b = self.add_weight([1, output_dim])\n",
        "    \n",
        "    def call(self, inputs):\n",
        "        # Forward propagation\n",
        "        z = tf.matmul(inputs, self.W) + self.b\n",
        "\n",
        "        # Activation function\n",
        "        output = tf.math.sigmoid(z)\n",
        "\n",
        "        return output"
      ],
      "metadata": {
        "id": "8QbLYGagTdr4"
      },
      "execution_count": null,
      "outputs": []
    },
    {
      "cell_type": "code",
      "source": [
        "# Same as above code\n",
        "import tensorflow as tf\n",
        "\n",
        "layer = tf.keras.layers.Dense(units=2)"
      ],
      "metadata": {
        "id": "tk-Ah9HtaPIh"
      },
      "execution_count": null,
      "outputs": []
    },
    {
      "cell_type": "code",
      "source": [
        "# Stack these layers on top of each other\n",
        "# In sequential models you define one layer after another.\n",
        "# Define forward propagation not just from the neuron level but the layer level\n",
        "# Inputs of the second layer will be all of the outputs of the prior layer\n",
        "import tensorflow as tf\n",
        "model = tf.keras.Sequential([\n",
        "    tf.keras.layers.Dense(n),\n",
        "    tf.keras.layers.Dense(2)\n",
        "])"
      ],
      "metadata": {
        "collapsed": true,
        "id": "4W7CiAkTRTWI",
        "outputId": "e3ba7bc6-b324-440a-c4fa-11c9dfea2b8a",
        "colab": {
          "base_uri": "https://localhost:8080/",
          "height": 240
        }
      },
      "execution_count": 1,
      "outputs": [
        {
          "output_type": "error",
          "ename": "NameError",
          "evalue": "ignored",
          "traceback": [
            "\u001b[0;31m---------------------------------------------------------------------------\u001b[0m",
            "\u001b[0;31mNameError\u001b[0m                                 Traceback (most recent call last)",
            "\u001b[0;32m<ipython-input-1-fa9c0b2a9f43>\u001b[0m in \u001b[0;36m<module>\u001b[0;34m\u001b[0m\n\u001b[1;32m      5\u001b[0m \u001b[0;32mimport\u001b[0m \u001b[0mtensorflow\u001b[0m \u001b[0;32mas\u001b[0m \u001b[0mtf\u001b[0m\u001b[0;34m\u001b[0m\u001b[0;34m\u001b[0m\u001b[0m\n\u001b[1;32m      6\u001b[0m model = tf.keras.Sequential([\n\u001b[0;32m----> 7\u001b[0;31m     \u001b[0mtf\u001b[0m\u001b[0;34m.\u001b[0m\u001b[0mkeras\u001b[0m\u001b[0;34m.\u001b[0m\u001b[0mlayers\u001b[0m\u001b[0;34m.\u001b[0m\u001b[0mDense\u001b[0m\u001b[0;34m(\u001b[0m\u001b[0mn\u001b[0m\u001b[0;34m)\u001b[0m\u001b[0;34m,\u001b[0m\u001b[0;34m\u001b[0m\u001b[0;34m\u001b[0m\u001b[0m\n\u001b[0m\u001b[1;32m      8\u001b[0m     \u001b[0mtf\u001b[0m\u001b[0;34m.\u001b[0m\u001b[0mkeras\u001b[0m\u001b[0;34m.\u001b[0m\u001b[0mlayers\u001b[0m\u001b[0;34m.\u001b[0m\u001b[0mDense\u001b[0m\u001b[0;34m(\u001b[0m\u001b[0;36m2\u001b[0m\u001b[0;34m)\u001b[0m\u001b[0;34m\u001b[0m\u001b[0;34m\u001b[0m\u001b[0m\n\u001b[1;32m      9\u001b[0m ])\n",
            "\u001b[0;31mNameError\u001b[0m: name 'n' is not defined"
          ]
        }
      ]
    },
    {
      "cell_type": "code",
      "source": [
        "# In deep neural networks you just keep stacking layers\n"
      ],
      "metadata": {
        "id": "tttSaYy8ScK4"
      },
      "execution_count": null,
      "outputs": []
    },
    {
      "cell_type": "code",
      "source": [
        "# loss functions\n",
        "loss = tf.reduce_mean()"
      ],
      "metadata": {
        "id": "EhPNrZU83Ovq"
      },
      "execution_count": null,
      "outputs": []
    }
  ]
}